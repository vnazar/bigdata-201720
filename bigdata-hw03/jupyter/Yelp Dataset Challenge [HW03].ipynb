{
 "cells": [
  {
   "cell_type": "markdown",
   "metadata": {},
   "source": [
    "# Yelp Dataset Challenge [HW03]"
   ]
  },
  {
   "attachments": {},
   "cell_type": "markdown",
   "metadata": {},
   "source": [
    "La presente tarea se divide en la obtención y generación de datos utilizando herramientas como MapReduce como **mrjob**, para luego ser visualizados mediante **jupyter**."
   ]
  },
  {
   "cell_type": "markdown",
   "metadata": {},
   "source": [
    "## 1. Extracción y generación de datos (mrjob)"
   ]
  },
  {
   "cell_type": "markdown",
   "metadata": {},
   "source": [
    "Para esta tarea se hizo uso de los datos ofrecidos por [**YELP Challenge**](https://www.yelp.com/dataset/challenge), en donde se nos pide trabajar con los datos de los archivos `review.json` y `business.json`, de tal manera de generar un archivo **csv** de datos con la siguiente estructura ``` review_id, category, stars```.\n",
    "\n",
    "Para realizar esta proceso se desarrollaron dos estapas de MapReduce. La primera, la cual recibe las lineas de los archivos (business y review) cargados en el *stdin* del programa, para luego ser identificarlos y así generar los outputs deseados para realizar los *JOIN's* en la etapa 2.\n",
    "```python\n",
    "    def mapper_input(self, _, line):\n",
    "        if 'name' in line:\n",
    "            yield line['business_id'], ('business', line['name'], line['business_id'], line['categories'], line['latitude'], line['longitude'], line['state'])\n",
    "        if 'user_id' in line:\n",
    "            votes = line['useful'] + line['funny'] + line['cool']\n",
    "\n",
    "            yield line['business_id'], ('reviews', line['review_id'], line['stars'], line['date'], votes)\n",
    "```\n",
    "\n",
    "La segunda estapa consiste en un *reduce* que junta a todos los inputs recibidos por medio de sus valores clave **business_id**, logrando así crear el JOIN deseado de estos guardandolos en un archivo **csv**.\n",
    "\n",
    "```python\n",
    "    def reducer_01(self, _, value):\n",
    "        business = dict()\n",
    "        reviews = []\n",
    "        for v in value:\n",
    "            if v[0] == 'business':\n",
    "                _, business_name, business_id, categories, latitude, longitude, state = v\n",
    "                business['categories'] = categories\n",
    "                business['name'] = business_name\n",
    "                business['id'] = business_id\n",
    "                business['categories'] = categories\n",
    "                business['latitude'] = latitude\n",
    "                business['longitude'] = longitude\n",
    "                business['state'] = state\n",
    "            if v[0] == 'reviews':\n",
    "                _, review_id, stars, date, votes = v\n",
    "                reviews.append((review_id, stars, date, votes))\n",
    "\n",
    "\n",
    "        if any(business) and reviews:\n",
    "            for review_id, stars, date, votes in reviews:\n",
    "                for category in business['categories']:\n",
    "                    writer.writerow((review_id,\n",
    "                                     category,\n",
    "                                     business['id'].encode(\"utf-8\"),\n",
    "                                     business['name'].encode(\"utf-8\"),\n",
    "                                     business['latitude'],\n",
    "                                     business['longitude'],\n",
    "                                     date,\n",
    "                                     stars,\n",
    "                                     business['state'].encode(\"utf-8\"),\n",
    "                                     votes\n",
    "                                     ))\n",
    "```"
   ]
  },
  {
   "cell_type": "markdown",
   "metadata": {},
   "source": [
    "## 2. Visualización de datos (PANDAS + Plot.ly)"
   ]
  },
  {
   "cell_type": "markdown",
   "metadata": {},
   "source": [
    "En el desarrollo de esta sección se daran a entender dos librerías las cuales permiten manipular y visualizar los datos ya extraídos de **Yelp**. Las librerías trabajadas en esta tarea son:\n",
    "* **Pandas (v.0.20.3)**\n",
    "* **Plotly (v.2.2.1)**\n",
    "\n",
    "La primera (pandas) es una librería para el análisis de datos en Python, la cual provee diversas funciones como:\n",
    "1. Cargas de datos desde archivos (ej: CSV) de forma simple.\n",
    "2. Potente estructura de datos para el manejo de estos (llamada DataFrame) donde es posible realizar consultas dentro de ellas o obtener columnas/filas de esta.\n",
    "3. Graficar datos.\n",
    "4. Etc.\n",
    "\n",
    "Mientras que la segunda, la cual es ofrecida como un servicio, permite generar reporterías sofisticadas, con la posibilidad de tener un completo control sobre ellas."
   ]
  },
  {
   "cell_type": "markdown",
   "metadata": {},
   "source": [
    "Primero importamos la librería **plotly** para realizar visualizaciónes gráficas sobre los datos"
   ]
  },
  {
   "cell_type": "code",
   "execution_count": 1,
   "metadata": {},
   "outputs": [],
   "source": [
    "import plotly.plotly as py\n",
    "import plotly.graph_objs as go"
   ]
  },
  {
   "cell_type": "markdown",
   "metadata": {},
   "source": [
    "Para poder usar el servicio de **plotly** es necesario tener una cuenta en [Plot.ly](https://plot.ly/), donde podremos obtener una **API Key**, la cual nos dará acceso a generar las visualizaciones deseadas.\n",
    "Una vez obtenida la **API Key**, se puede ejecutar el siguiente comando en la consola de python de tal manera que sea cargada en las credenciales de la libreria (`~/.plotly/.credentials`).\n",
    "\n",
    "```python\n",
    "import plotly \n",
    "plotly.tools.set_credentials_file(username='username', api_key='apikey')\n",
    "```\n",
    "Reemplazando los valores **username** por el nombre de usuario de Plot.ly y **apikey** por la **API Key** asignada."
   ]
  },
  {
   "cell_type": "markdown",
   "metadata": {},
   "source": [
    "Luego importamos la librería **pandas** para importar y manipular los datos desde un archivo **csv**."
   ]
  },
  {
   "cell_type": "code",
   "execution_count": 2,
   "metadata": {},
   "outputs": [
    {
     "data": {
      "text/html": [
       "<div>\n",
       "<style>\n",
       "    .dataframe thead tr:only-child th {\n",
       "        text-align: right;\n",
       "    }\n",
       "\n",
       "    .dataframe thead th {\n",
       "        text-align: left;\n",
       "    }\n",
       "\n",
       "    .dataframe tbody tr th {\n",
       "        vertical-align: top;\n",
       "    }\n",
       "</style>\n",
       "<table border=\"1\" class=\"dataframe\">\n",
       "  <thead>\n",
       "    <tr style=\"text-align: right;\">\n",
       "      <th></th>\n",
       "      <th>review_id</th>\n",
       "      <th>category</th>\n",
       "      <th>business_id</th>\n",
       "      <th>business_name</th>\n",
       "      <th>latitude</th>\n",
       "      <th>longitude</th>\n",
       "      <th>date</th>\n",
       "      <th>stars</th>\n",
       "      <th>state</th>\n",
       "      <th>votes</th>\n",
       "    </tr>\n",
       "  </thead>\n",
       "  <tbody>\n",
       "    <tr>\n",
       "      <th>0</th>\n",
       "      <td>2aAE1ZVDqMgFDakrl7iRAw</td>\n",
       "      <td>Arts &amp; Entertainment</td>\n",
       "      <td>-MhfebM0QIsKt87iDN-FNw</td>\n",
       "      <td>Bellagio Gallery of Fine Art</td>\n",
       "      <td>36.112896</td>\n",
       "      <td>-115.177637</td>\n",
       "      <td>2013-01-08</td>\n",
       "      <td>5</td>\n",
       "      <td>NV</td>\n",
       "      <td>0</td>\n",
       "    </tr>\n",
       "    <tr>\n",
       "      <th>1</th>\n",
       "      <td>2aAE1ZVDqMgFDakrl7iRAw</td>\n",
       "      <td>Shopping</td>\n",
       "      <td>-MhfebM0QIsKt87iDN-FNw</td>\n",
       "      <td>Bellagio Gallery of Fine Art</td>\n",
       "      <td>36.112896</td>\n",
       "      <td>-115.177637</td>\n",
       "      <td>2013-01-08</td>\n",
       "      <td>5</td>\n",
       "      <td>NV</td>\n",
       "      <td>0</td>\n",
       "    </tr>\n",
       "    <tr>\n",
       "      <th>2</th>\n",
       "      <td>2aAE1ZVDqMgFDakrl7iRAw</td>\n",
       "      <td>Museums</td>\n",
       "      <td>-MhfebM0QIsKt87iDN-FNw</td>\n",
       "      <td>Bellagio Gallery of Fine Art</td>\n",
       "      <td>36.112896</td>\n",
       "      <td>-115.177637</td>\n",
       "      <td>2013-01-08</td>\n",
       "      <td>5</td>\n",
       "      <td>NV</td>\n",
       "      <td>0</td>\n",
       "    </tr>\n",
       "    <tr>\n",
       "      <th>3</th>\n",
       "      <td>2aAE1ZVDqMgFDakrl7iRAw</td>\n",
       "      <td>Art Galleries</td>\n",
       "      <td>-MhfebM0QIsKt87iDN-FNw</td>\n",
       "      <td>Bellagio Gallery of Fine Art</td>\n",
       "      <td>36.112896</td>\n",
       "      <td>-115.177637</td>\n",
       "      <td>2013-01-08</td>\n",
       "      <td>5</td>\n",
       "      <td>NV</td>\n",
       "      <td>0</td>\n",
       "    </tr>\n",
       "    <tr>\n",
       "      <th>4</th>\n",
       "      <td>4OADaU5e2p63-bSPqtyc7w</td>\n",
       "      <td>Arts &amp; Entertainment</td>\n",
       "      <td>-MhfebM0QIsKt87iDN-FNw</td>\n",
       "      <td>Bellagio Gallery of Fine Art</td>\n",
       "      <td>36.112896</td>\n",
       "      <td>-115.177637</td>\n",
       "      <td>2013-09-03</td>\n",
       "      <td>3</td>\n",
       "      <td>NV</td>\n",
       "      <td>3</td>\n",
       "    </tr>\n",
       "    <tr>\n",
       "      <th>5</th>\n",
       "      <td>4OADaU5e2p63-bSPqtyc7w</td>\n",
       "      <td>Shopping</td>\n",
       "      <td>-MhfebM0QIsKt87iDN-FNw</td>\n",
       "      <td>Bellagio Gallery of Fine Art</td>\n",
       "      <td>36.112896</td>\n",
       "      <td>-115.177637</td>\n",
       "      <td>2013-09-03</td>\n",
       "      <td>3</td>\n",
       "      <td>NV</td>\n",
       "      <td>3</td>\n",
       "    </tr>\n",
       "    <tr>\n",
       "      <th>6</th>\n",
       "      <td>4OADaU5e2p63-bSPqtyc7w</td>\n",
       "      <td>Museums</td>\n",
       "      <td>-MhfebM0QIsKt87iDN-FNw</td>\n",
       "      <td>Bellagio Gallery of Fine Art</td>\n",
       "      <td>36.112896</td>\n",
       "      <td>-115.177637</td>\n",
       "      <td>2013-09-03</td>\n",
       "      <td>3</td>\n",
       "      <td>NV</td>\n",
       "      <td>3</td>\n",
       "    </tr>\n",
       "    <tr>\n",
       "      <th>7</th>\n",
       "      <td>4OADaU5e2p63-bSPqtyc7w</td>\n",
       "      <td>Art Galleries</td>\n",
       "      <td>-MhfebM0QIsKt87iDN-FNw</td>\n",
       "      <td>Bellagio Gallery of Fine Art</td>\n",
       "      <td>36.112896</td>\n",
       "      <td>-115.177637</td>\n",
       "      <td>2013-09-03</td>\n",
       "      <td>3</td>\n",
       "      <td>NV</td>\n",
       "      <td>3</td>\n",
       "    </tr>\n",
       "    <tr>\n",
       "      <th>8</th>\n",
       "      <td>4jAJgSWPilBVjRgDxoN_dw</td>\n",
       "      <td>Arts &amp; Entertainment</td>\n",
       "      <td>-MhfebM0QIsKt87iDN-FNw</td>\n",
       "      <td>Bellagio Gallery of Fine Art</td>\n",
       "      <td>36.112896</td>\n",
       "      <td>-115.177637</td>\n",
       "      <td>2015-08-17</td>\n",
       "      <td>4</td>\n",
       "      <td>NV</td>\n",
       "      <td>1</td>\n",
       "    </tr>\n",
       "    <tr>\n",
       "      <th>9</th>\n",
       "      <td>4jAJgSWPilBVjRgDxoN_dw</td>\n",
       "      <td>Shopping</td>\n",
       "      <td>-MhfebM0QIsKt87iDN-FNw</td>\n",
       "      <td>Bellagio Gallery of Fine Art</td>\n",
       "      <td>36.112896</td>\n",
       "      <td>-115.177637</td>\n",
       "      <td>2015-08-17</td>\n",
       "      <td>4</td>\n",
       "      <td>NV</td>\n",
       "      <td>1</td>\n",
       "    </tr>\n",
       "  </tbody>\n",
       "</table>\n",
       "</div>"
      ],
      "text/plain": [
       "                review_id              category             business_id  \\\n",
       "0  2aAE1ZVDqMgFDakrl7iRAw  Arts & Entertainment  -MhfebM0QIsKt87iDN-FNw   \n",
       "1  2aAE1ZVDqMgFDakrl7iRAw              Shopping  -MhfebM0QIsKt87iDN-FNw   \n",
       "2  2aAE1ZVDqMgFDakrl7iRAw               Museums  -MhfebM0QIsKt87iDN-FNw   \n",
       "3  2aAE1ZVDqMgFDakrl7iRAw         Art Galleries  -MhfebM0QIsKt87iDN-FNw   \n",
       "4  4OADaU5e2p63-bSPqtyc7w  Arts & Entertainment  -MhfebM0QIsKt87iDN-FNw   \n",
       "5  4OADaU5e2p63-bSPqtyc7w              Shopping  -MhfebM0QIsKt87iDN-FNw   \n",
       "6  4OADaU5e2p63-bSPqtyc7w               Museums  -MhfebM0QIsKt87iDN-FNw   \n",
       "7  4OADaU5e2p63-bSPqtyc7w         Art Galleries  -MhfebM0QIsKt87iDN-FNw   \n",
       "8  4jAJgSWPilBVjRgDxoN_dw  Arts & Entertainment  -MhfebM0QIsKt87iDN-FNw   \n",
       "9  4jAJgSWPilBVjRgDxoN_dw              Shopping  -MhfebM0QIsKt87iDN-FNw   \n",
       "\n",
       "                  business_name   latitude   longitude        date  stars  \\\n",
       "0  Bellagio Gallery of Fine Art  36.112896 -115.177637  2013-01-08      5   \n",
       "1  Bellagio Gallery of Fine Art  36.112896 -115.177637  2013-01-08      5   \n",
       "2  Bellagio Gallery of Fine Art  36.112896 -115.177637  2013-01-08      5   \n",
       "3  Bellagio Gallery of Fine Art  36.112896 -115.177637  2013-01-08      5   \n",
       "4  Bellagio Gallery of Fine Art  36.112896 -115.177637  2013-09-03      3   \n",
       "5  Bellagio Gallery of Fine Art  36.112896 -115.177637  2013-09-03      3   \n",
       "6  Bellagio Gallery of Fine Art  36.112896 -115.177637  2013-09-03      3   \n",
       "7  Bellagio Gallery of Fine Art  36.112896 -115.177637  2013-09-03      3   \n",
       "8  Bellagio Gallery of Fine Art  36.112896 -115.177637  2015-08-17      4   \n",
       "9  Bellagio Gallery of Fine Art  36.112896 -115.177637  2015-08-17      4   \n",
       "\n",
       "  state  votes  \n",
       "0    NV      0  \n",
       "1    NV      0  \n",
       "2    NV      0  \n",
       "3    NV      0  \n",
       "4    NV      3  \n",
       "5    NV      3  \n",
       "6    NV      3  \n",
       "7    NV      3  \n",
       "8    NV      1  \n",
       "9    NV      1  "
      ]
     },
     "execution_count": 2,
     "metadata": {},
     "output_type": "execute_result"
    }
   ],
   "source": [
    "import pandas as pd\n",
    "df = pd.read_csv('../result_01_10000.csv')\n",
    "df.head(10)"
   ]
  },
  {
   "cell_type": "markdown",
   "metadata": {},
   "source": [
    "Ejecutando la fila anterior se aprecia la facilidad para importar el archivo, donde este es cargado a un objeto (estructura de datos) **DataFrame**, la cual no permite jugar con los datos y en este caso pedir los primeros 10 con:\n",
    "```python\n",
    "df.head(10)\n",
    "```"
   ]
  },
  {
   "cell_type": "markdown",
   "metadata": {},
   "source": [
    "Importamos también las librerías y subliberías **ipywidgets** para insertar elementos html como *dropdown* o *select*, entre otros."
   ]
  },
  {
   "cell_type": "code",
   "execution_count": 3,
   "metadata": {},
   "outputs": [],
   "source": [
    "import ipywidgets as widgets\n",
    "from ipywidgets import interact"
   ]
  },
  {
   "cell_type": "code",
   "execution_count": 4,
   "metadata": {
    "scrolled": false
   },
   "outputs": [
    {
     "data": {
      "application/vnd.jupyter.widget-view+json": {
       "model_id": "992a5614e935453ea0b1669927158229",
       "version_major": 2,
       "version_minor": 0
      },
      "text/html": [
       "<p>Failed to display Jupyter Widget of type <code>interactive</code>.</p>\n",
       "<p>\n",
       "  If you're reading this message in Jupyter Notebook or JupyterLab, it may mean\n",
       "  that the widgets JavaScript is still loading. If this message persists, it\n",
       "  likely means that the widgets JavaScript library is either not installed or\n",
       "  not enabled. See the <a href=\"https://ipywidgets.readthedocs.io/en/stable/user_install.html\">Jupyter\n",
       "  Widgets Documentation</a> for setup instructions.\n",
       "</p>\n",
       "<p>\n",
       "  If you're reading this message in another notebook frontend (for example, a static\n",
       "  rendering on GitHub or <a href=\"https://nbviewer.jupyter.org/\">NBViewer</a>),\n",
       "  it may mean that your frontend doesn't currently support widgets.\n",
       "</p>\n"
      ],
      "text/plain": [
       "interactive(children=(Dropdown(description=u'Categoria:', options=('Active Life', 'Amusement Parks', 'Apartments', 'Art Galleries', 'Arts & Entertainment', 'Asian Fusion', 'Automotive', 'Bakeries', 'Barbers', 'Beauty & Spas', 'Breakfast & Brunch', 'Burgers', 'Cafes', 'Cajun/Creole', 'Car Dealers', 'Casinos', 'Child Care & Day Care', 'Chinese', 'Coffee & Tea', 'Contractors', 'Cupcakes', 'Custom Cakes', 'Dentists', 'Desserts', 'Dim Sum', 'Donuts', 'Dry Cleaning & Laundry', 'Education', 'Educational Services', 'Electronics', 'Escape Games', 'Ethnic Food', 'Event Photography', 'Event Planning & Services', 'Eyewear & Opticians', 'Fast Food', 'Fitness & Instruction', 'Food', 'Food Stands', 'Fruits & Veggies', 'General Dentistry', 'Gluten-Free', 'Grocery', 'Health & Medical', 'Health Retreats', 'Home Automation', 'Home Services', 'Home Theatre Installation', 'Hotels', 'Hotels & Travel', 'IT Services & Computer Repair', 'Ice Cream & Frozen Yogurt', 'Indian', 'Italian', 'Language Schools', 'Laser Eye Surgery/Lasik', 'Laundry Services', 'Local Services', 'Massage', 'Massage Therapy', 'Meat Shops', 'Mexican', 'Mobile Phone Repair', 'Mobile Phones', 'Museums', 'Nail Salons', 'Nail Technicians', 'Noodles', 'Optometrists', 'Patisserie/Cake Shop', 'Performing Arts', 'Photographers', 'Photography Stores & Services', 'Pizza', 'Preschools', 'Professional Services', 'Psychics & Astrologers', 'Real Estate', 'Reiki', 'Restaurants', 'Seafood Markets', 'Security Systems', 'Session Photography', 'Shades & Blinds', 'Shoe Repair', 'Shopping', 'Shopping Centers', 'Specialty Food', 'Specialty Schools', 'TV Mounting', 'Vegan', 'Vegetarian', 'Venues & Event Spaces', 'Videographers', 'Wedding Planning', 'Yoga'), value='Active Life'), Output()), _dom_classes=('widget-interact',))"
      ]
     },
     "metadata": {},
     "output_type": "display_data"
    },
    {
     "data": {
      "text/plain": [
       "<function __main__.on_change>"
      ]
     },
     "execution_count": 4,
     "metadata": {},
     "output_type": "execute_result"
    }
   ],
   "source": [
    "all_categories = df['category'].tolist()\n",
    "all_categories = sorted(list(set(all_categories)))\n",
    "\n",
    "dropdown = widgets.Dropdown(options=all_categories, description='Categoria:')\n",
    "\n",
    "\n",
    "def on_change(change=''):\n",
    "    val = df[df.category == change]['stars'].tolist()\n",
    "\n",
    "\n",
    "    data = [go.Histogram(\n",
    "        x=val,\n",
    "    )]\n",
    "\n",
    "    return py.iplot(data, filename='basic-bar')\n",
    "     \n",
    "\n",
    "interact(on_change, change=dropdown)"
   ]
  },
  {
   "cell_type": "markdown",
   "metadata": {},
   "source": [
    "La función `on_change` se utiliza para el evento lanzado por el **dropdown** de categorias. De esta manera es posible dar una muestra de que es posible interactuar con los datos, logrando así numerosas visualizaciones de estos."
   ]
  },
  {
   "cell_type": "markdown",
   "metadata": {},
   "source": [
    "A continuación se filtrán los datos de **df**, con el fin de crear un set de datos que contenga los negocios, el total de calificaciones por negocio y el promedio de estas para cada uno de ellos."
   ]
  },
  {
   "cell_type": "code",
   "execution_count": 5,
   "metadata": {},
   "outputs": [
    {
     "data": {
      "text/html": [
       "<div>\n",
       "<style>\n",
       "    .dataframe thead tr:only-child th {\n",
       "        text-align: right;\n",
       "    }\n",
       "\n",
       "    .dataframe thead th {\n",
       "        text-align: left;\n",
       "    }\n",
       "\n",
       "    .dataframe tbody tr th {\n",
       "        vertical-align: top;\n",
       "    }\n",
       "</style>\n",
       "<table border=\"1\" class=\"dataframe\">\n",
       "  <thead>\n",
       "    <tr>\n",
       "      <th></th>\n",
       "      <th>business_name</th>\n",
       "      <th colspan=\"2\" halign=\"left\">stars</th>\n",
       "    </tr>\n",
       "    <tr>\n",
       "      <th></th>\n",
       "      <th></th>\n",
       "      <th>count</th>\n",
       "      <th>mean</th>\n",
       "    </tr>\n",
       "  </thead>\n",
       "  <tbody>\n",
       "    <tr>\n",
       "      <th>0</th>\n",
       "      <td>Advanced Body Therapy</td>\n",
       "      <td>24</td>\n",
       "      <td>5.000000</td>\n",
       "    </tr>\n",
       "    <tr>\n",
       "      <th>1</th>\n",
       "      <td>Andy's Cleaners</td>\n",
       "      <td>9</td>\n",
       "      <td>2.333333</td>\n",
       "    </tr>\n",
       "    <tr>\n",
       "      <th>2</th>\n",
       "      <td>Bellagio Gallery of Fine Art</td>\n",
       "      <td>320</td>\n",
       "      <td>3.300000</td>\n",
       "    </tr>\n",
       "    <tr>\n",
       "      <th>3</th>\n",
       "      <td>Caesars Palace Weddings</td>\n",
       "      <td>26</td>\n",
       "      <td>4.307692</td>\n",
       "    </tr>\n",
       "    <tr>\n",
       "      <th>4</th>\n",
       "      <td>Cajun Crawfish</td>\n",
       "      <td>88</td>\n",
       "      <td>2.954545</td>\n",
       "    </tr>\n",
       "    <tr>\n",
       "      <th>5</th>\n",
       "      <td>Commercial Shoe &amp; Luggage</td>\n",
       "      <td>10</td>\n",
       "      <td>5.000000</td>\n",
       "    </tr>\n",
       "    <tr>\n",
       "      <th>6</th>\n",
       "      <td>Diho Supermarket</td>\n",
       "      <td>35</td>\n",
       "      <td>4.400000</td>\n",
       "    </tr>\n",
       "    <tr>\n",
       "      <th>7</th>\n",
       "      <td>Dunkin' Donuts</td>\n",
       "      <td>102</td>\n",
       "      <td>2.352941</td>\n",
       "    </tr>\n",
       "    <tr>\n",
       "      <th>8</th>\n",
       "      <td>Elite A/V</td>\n",
       "      <td>730</td>\n",
       "      <td>4.917808</td>\n",
       "    </tr>\n",
       "    <tr>\n",
       "      <th>9</th>\n",
       "      <td>Escape or Die</td>\n",
       "      <td>178</td>\n",
       "      <td>4.606742</td>\n",
       "    </tr>\n",
       "  </tbody>\n",
       "</table>\n",
       "</div>"
      ],
      "text/plain": [
       "                  business_name stars          \n",
       "                                count      mean\n",
       "0         Advanced Body Therapy    24  5.000000\n",
       "1               Andy's Cleaners     9  2.333333\n",
       "2  Bellagio Gallery of Fine Art   320  3.300000\n",
       "3       Caesars Palace Weddings    26  4.307692\n",
       "4                Cajun Crawfish    88  2.954545\n",
       "5     Commercial Shoe & Luggage    10  5.000000\n",
       "6              Diho Supermarket    35  4.400000\n",
       "7                Dunkin' Donuts   102  2.352941\n",
       "8                     Elite A/V   730  4.917808\n",
       "9                 Escape or Die   178  4.606742"
      ]
     },
     "execution_count": 5,
     "metadata": {},
     "output_type": "execute_result"
    }
   ],
   "source": [
    "scatter_data = df[['business_name', 'stars']].groupby('business_name').agg(['count', 'mean']).reset_index()\n",
    "scatter_data.head(10)"
   ]
  },
  {
   "cell_type": "markdown",
   "metadata": {},
   "source": [
    "Como se mostró anteriormente, con **pandas** es posible manipular los datos especificando la columna deseada, donde además es posible formular filtros y funciones sobre los datos por medio de metodos *groupby*, *count*, *mean*, entre otros.\n",
    "```python\n",
    "scatter_data = df[['business_name', 'stars']].groupby('business_name').agg(['count', 'mean']).reset_index()\n",
    "```"
   ]
  },
  {
   "cell_type": "markdown",
   "metadata": {},
   "source": [
    "Finalmente los datos son cargados en un grafico de dispersión (scatter) con el fin de ver a los negocios mejor calificados con respecto a la cantidad de calificaciones obtenidas."
   ]
  },
  {
   "cell_type": "code",
   "execution_count": 6,
   "metadata": {
    "scrolled": false
   },
   "outputs": [
    {
     "data": {
      "text/html": [
       "<iframe id=\"igraph\" scrolling=\"no\" style=\"border:none;\" seamless=\"seamless\" src=\"https://plot.ly/~vinazar/1.embed\" height=\"525px\" width=\"100%\"></iframe>"
      ],
      "text/plain": [
       "<plotly.tools.PlotlyDisplay object>"
      ]
     },
     "execution_count": 6,
     "metadata": {},
     "output_type": "execute_result"
    }
   ],
   "source": [
    "\n",
    "data = []\n",
    "for idx, sc in scatter_data.iterrows():\n",
    "    trace = go.Scatter(\n",
    "    x=sc[('stars', 'count')],\n",
    "    y=sc[('stars', 'mean')],\n",
    "    text=sc['business_name'].to_string(),\n",
    "    name=sc['business_name'].to_string(),\n",
    "    mode='markers',\n",
    "    \n",
    "    )\n",
    "    data.append(trace)\n",
    "\n",
    "\n",
    "# Plot and embed in ipython notebook!\n",
    "py.iplot(data, filename='basic-scatter')"
   ]
  },
  {
   "cell_type": "markdown",
   "metadata": {},
   "source": [
    "Por ultimo se filtran los datos por el nombre del negocio con el fin de visualizar el promedio de notas obtenido para cada uno en las fechas que fueron calificados.\n",
    "```python\n",
    "    val = df[df.business_name == change][['stars','date']].groupby(['date']).mean().reset_index()\n",
    "```"
   ]
  },
  {
   "cell_type": "code",
   "execution_count": 8,
   "metadata": {},
   "outputs": [
    {
     "data": {
      "application/vnd.jupyter.widget-view+json": {
       "model_id": "89cda8418e954bafade9199379c4b631",
       "version_major": 2,
       "version_minor": 0
      },
      "text/html": [
       "<p>Failed to display Jupyter Widget of type <code>interactive</code>.</p>\n",
       "<p>\n",
       "  If you're reading this message in Jupyter Notebook or JupyterLab, it may mean\n",
       "  that the widgets JavaScript is still loading. If this message persists, it\n",
       "  likely means that the widgets JavaScript library is either not installed or\n",
       "  not enabled. See the <a href=\"https://ipywidgets.readthedocs.io/en/stable/user_install.html\">Jupyter\n",
       "  Widgets Documentation</a> for setup instructions.\n",
       "</p>\n",
       "<p>\n",
       "  If you're reading this message in another notebook frontend (for example, a static\n",
       "  rendering on GitHub or <a href=\"https://nbviewer.jupyter.org/\">NBViewer</a>),\n",
       "  it may mean that your frontend doesn't currently support widgets.\n",
       "</p>\n"
      ],
      "text/plain": [
       "interactive(children=(Dropdown(description=u'Negocios:', options=('Advanced Body Therapy', \"Andy's Cleaners\", 'Bellagio Gallery of Fine Art', 'Caesars Palace Weddings', 'Cajun Crawfish', 'Commercial Shoe & Luggage', 'Diho Supermarket', \"Dunkin' Donuts\", 'Elite A/V', 'Escape or Die', 'Great Steak & Potato', 'High Roller', 'Hot Yoga Bliss Vacations', 'Jack In The Box', 'Jade At the Palazzo', 'Jeff Mitchum Galleries', 'Las Vegas Chinese School', \"Leatherby's Ice Cream Shop\", 'Leo Barber Shop', 'Loft 5', 'Mallinger Family Eye Care', 'MetroPCS', 'Mi Pueblo Taco Shop', 'Mindy Bean Photography', 'Miracle Dental', 'Nails By Vicky', 'Pizza Company', 'Settebello Pizzeria Napoletana', 'Sholay', \"Sloppi Jo's Roving Eatery\", 'Slots A Fun', 'Southern Cove', 'Starbucks', 'Super Summer Theatre', 'Team Ford Lincoln', 'The Shoppes at The Palazzo', 'Veganbites Bakery & Espresso', 'White Castle', 'WuHu Noodle'), value='Advanced Body Therapy'), Output()), _dom_classes=('widget-interact',))"
      ]
     },
     "metadata": {},
     "output_type": "display_data"
    },
    {
     "data": {
      "text/plain": [
       "<function __main__.on_change2>"
      ]
     },
     "execution_count": 8,
     "metadata": {},
     "output_type": "execute_result"
    }
   ],
   "source": [
    "business_names = df['business_name'].tolist()\n",
    "business_names = sorted(list(set(business_names)))\n",
    "\n",
    "dropdown2 = widgets.Dropdown(options=business_names, description='Negocios:')\n",
    "\n",
    "\n",
    "def on_change2(change=''):\n",
    "    val = df[df.business_name == change][['stars','date']].groupby(['date']).mean().reset_index()\n",
    "    stars = val['stars'].values.tolist()\n",
    "    date = val['date'].values.tolist()\n",
    "    data = [go.Scatter(\n",
    "        x = date,\n",
    "        y = stars,\n",
    "        fill='tozeroy',\n",
    "    mode= 'none'\n",
    "        )]\n",
    "\n",
    "    \n",
    "    \n",
    "    return py.iplot(data, filename='basic-line')\n",
    "    \n",
    "    #return lgn.histogram(values=val, bins=5, zoom=False,)\n",
    "\n",
    "interact(on_change2, change=dropdown2)"
   ]
  },
  {
   "cell_type": "markdown",
   "metadata": {},
   "source": [
    "Finalmente se obtiene una noción de las librerias y de sus potenciales, con lo cual nos permiten trabajar sobre datos, manipularlos y visualizarlos en pocos pasos."
   ]
  },
  {
   "cell_type": "markdown",
   "metadata": {},
   "source": [
    "### VICENTE NAZAR M."
   ]
  }
 ],
 "metadata": {
  "kernelspec": {
   "display_name": "Python (bigdata_201720)",
   "language": "python",
   "name": "envname"
  },
  "language_info": {
   "codemirror_mode": {
    "name": "ipython",
    "version": 2
   },
   "file_extension": ".py",
   "mimetype": "text/x-python",
   "name": "python",
   "nbconvert_exporter": "python",
   "pygments_lexer": "ipython2",
   "version": "2.7.13"
  }
 },
 "nbformat": 4,
 "nbformat_minor": 2
}
